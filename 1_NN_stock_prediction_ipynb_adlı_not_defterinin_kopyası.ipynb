{
  "cells": [
    {
      "cell_type": "markdown",
      "metadata": {
        "id": "view-in-github",
        "colab_type": "text"
      },
      "source": [
        "<a href=\"https://colab.research.google.com/github/ankhenaton/terminal/blob/main/1_NN_stock_prediction_ipynb_adl%C4%B1_not_defterinin_kopyas%C4%B1.ipynb\" target=\"_parent\"><img src=\"https://colab.research.google.com/assets/colab-badge.svg\" alt=\"Open In Colab\"/></a>"
      ]
    },
    {
      "cell_type": "markdown",
      "metadata": {
        "id": "7UxQjmy0SR02"
      },
      "source": [
        "# Stock price prediction using LSTM neural network and Tensorflow\n",
        "What do we need here:\n",
        "1. Load data\n",
        "2. Scale data for machine learning model\n",
        "3. Setup neural network\n",
        "4. Compile model\n",
        "5. Teach neural netowk and fit this\n",
        "6. Use the model for prediction\n",
        "7. Draw the results chart"
      ]
    },
    {
      "cell_type": "code",
      "execution_count": null,
      "metadata": {
        "id": "VT5lGKHiQ3eQ"
      },
      "outputs": [],
      "source": [
        "# Requirements\n",
        "!pip install yahoo_fin"
      ]
    },
    {
      "cell_type": "code",
      "execution_count": null,
      "metadata": {
        "colab": {
          "background_save": true
        },
        "id": "sqKJF5k5BVGi"
      },
      "outputs": [],
      "source": [
        "import numpy as np\n",
        "import time as tm\n",
        "import datetime as dt\n",
        "import tensorflow as tf\n",
        "\n",
        "# Data preparation\n",
        "from yahoo_fin import stock_info as yf\n",
        "from sklearn.preprocessing import MinMaxScaler\n",
        "from collections import deque\n",
        "\n",
        "# AI\n",
        "from keras.models import Sequential\n",
        "from keras.layers import Dense, LSTM, Dropout\n",
        "\n",
        "# Graphics library\n",
        "import matplotlib.pyplot as plt"
      ]
    },
    {
      "cell_type": "code",
      "execution_count": null,
      "metadata": {
        "id": "rQsQgq4dBgBx"
      },
      "outputs": [],
      "source": [
        "# SETTINGS\n",
        "\n",
        "# Window size or the sequence length, 7 (1 week)\n",
        "N_STEPS = 7\n",
        "\n",
        "# Lookup steps, 1 is the next day, 3 = after tomorrow\n",
        "LOOKUP_STEPS = [1, 2, 3]\n",
        "\n",
        "# Stock ticker, GOOGL\n",
        "STOCK = 'KOZAL.IS'\n",
        "\n",
        "# Current date\n",
        "date_now = tm.strftime('%Y-%m-%d')\n",
        "date_3_years_back = (dt.date.today() - dt.timedelta(days=1104)).strftime('%Y-%m-%d')"
      ]
    },
    {
      "cell_type": "code",
      "execution_count": null,
      "metadata": {
        "id": "TIizkLaGWk2J"
      },
      "outputs": [],
      "source": [
        "# LOAD DATA\n",
        "# from yahoo_fin\n",
        "# for 1104 bars with interval = 1d (one day)\n",
        "init_df = yf.get_data(\n",
        "    STOCK,\n",
        "    start_date=date_3_years_back,\n",
        "    end_date=date_now,\n",
        "    interval='1d')"
      ]
    },
    {
      "cell_type": "code",
      "execution_count": null,
      "metadata": {
        "id": "9XHBdkvIYE3k"
      },
      "outputs": [],
      "source": [
        "init_df"
      ]
    },
    {
      "cell_type": "code",
      "execution_count": null,
      "metadata": {
        "id": "vTupVg2qX9M-"
      },
      "outputs": [],
      "source": [
        "# remove columns which our neural network will not use\n",
        "init_df = init_df.drop(['open', 'high', 'low', 'adjclose', 'ticker', 'volume'], axis=1)\n",
        "# create the column 'date' based on index column\n",
        "init_df['date'] = init_df.index"
      ]
    },
    {
      "cell_type": "code",
      "execution_count": null,
      "metadata": {
        "id": "BGbfM6s-bgTD"
      },
      "outputs": [],
      "source": [
        "init_df"
      ]
    },
    {
      "cell_type": "code",
      "execution_count": null,
      "metadata": {
        "id": "4Slwrl5_ZGmG"
      },
      "outputs": [],
      "source": [
        "# Let's preliminary see our data on the graphic\n",
        "plt.style.use(style='ggplot')\n",
        "plt.figure(figsize=(16,10))\n",
        "plt.plot(init_df['close'][-200:])\n",
        "plt.xlabel('days')\n",
        "plt.ylabel('price')\n",
        "plt.legend([f'Actual price for {STOCK}'])\n",
        "plt.show()"
      ]
    },
    {
      "cell_type": "code",
      "execution_count": null,
      "metadata": {
        "id": "Vr33TC6wYAO0"
      },
      "outputs": [],
      "source": [
        "# Scale data for ML engine\n",
        "scaler = MinMaxScaler()\n",
        "init_df['scaled_close'] = scaler.fit_transform(np.expand_dims(init_df['close'].values, axis=1))"
      ]
    },
    {
      "cell_type": "code",
      "execution_count": null,
      "metadata": {
        "id": "MXqyOqWncpE7"
      },
      "outputs": [],
      "source": [
        "init_df"
      ]
    },
    {
      "cell_type": "code",
      "execution_count": null,
      "metadata": {
        "id": "6NOQVoJJgWEW"
      },
      "outputs": [],
      "source": [
        "def PrepareData(days):\n",
        "  df = init_df.copy()\n",
        "  df['future'] = df['scaled_close'].shift(-days)\n",
        "  last_sequence = np.array(df[['scaled_close']].tail(days))\n",
        "  df.dropna(inplace=True)\n",
        "  sequence_data = []\n",
        "  sequences = deque(maxlen=N_STEPS)\n",
        "\n",
        "  for entry, target in zip(df[['scaled_close'] + ['date']].values, df['future'].values):\n",
        "      sequences.append(entry)\n",
        "      if len(sequences) == N_STEPS:\n",
        "          sequence_data.append([np.array(sequences), target])\n",
        "\n",
        "  last_sequence = list([s[:len(['scaled_close'])] for s in sequences]) + list(last_sequence)\n",
        "  last_sequence = np.array(last_sequence).astype(np.float32)\n",
        "\n",
        "  # construct the X's and Y's\n",
        "  X, Y = [], []\n",
        "  for seq, target in sequence_data:\n",
        "      X.append(seq)\n",
        "      Y.append(target)\n",
        "\n",
        "  # convert to numpy arrays\n",
        "  X = np.array(X)\n",
        "  Y = np.array(Y)\n",
        "\n",
        "  return df, last_sequence, X, Y"
      ]
    },
    {
      "cell_type": "code",
      "execution_count": null,
      "metadata": {
        "id": "g4hDLKlvlRBx"
      },
      "outputs": [],
      "source": [
        "PrepareData(3) # 3 days"
      ]
    },
    {
      "cell_type": "code",
      "execution_count": null,
      "metadata": {
        "id": "vYsFwAvTljZi"
      },
      "outputs": [],
      "source": [
        "def GetTrainedModel(x_train, y_train):\n",
        "  model = Sequential()\n",
        "  model.add(LSTM(60, return_sequences=True, input_shape=(N_STEPS, len(['scaled_close']))))\n",
        "  model.add(Dropout(0.3))\n",
        "  model.add(LSTM(120, return_sequences=False))\n",
        "  model.add(Dropout(0.3))\n",
        "  model.add(Dense(20))\n",
        "  model.add(Dense(1))\n",
        "\n",
        "  BATCH_SIZE = 8\n",
        "  EPOCHS = 80\n",
        "\n",
        "  model.compile(loss='mean_squared_error', optimizer='adam')\n",
        "\n",
        "  model.fit(x_train, y_train,\n",
        "            batch_size=BATCH_SIZE,\n",
        "            epochs=EPOCHS,\n",
        "            verbose=1)\n",
        "\n",
        "  model.summary()\n",
        "\n",
        "  return model"
      ]
    },
    {
      "cell_type": "code",
      "execution_count": null,
      "metadata": {
        "id": "7KnEx3LGrXz1"
      },
      "outputs": [],
      "source": [
        "# GET PREDICTIONS\n",
        "predictions = []\n",
        "\n",
        "for step in LOOKUP_STEPS:\n",
        "  df, last_sequence, x_train, y_train = PrepareData(step)\n",
        "  x_train = x_train[:, :, :len(['scaled_close'])].astype(np.float32)\n",
        "\n",
        "  model = GetTrainedModel(x_train, y_train)\n",
        "\n",
        "  last_sequence = last_sequence[-N_STEPS:]\n",
        "  last_sequence = np.expand_dims(last_sequence, axis=0)\n",
        "  prediction = model.predict(last_sequence)\n",
        "  predicted_price = scaler.inverse_transform(prediction)[0][0]\n",
        "\n",
        "  predictions.append(round(float(predicted_price), 2))"
      ]
    },
    {
      "cell_type": "code",
      "execution_count": null,
      "metadata": {
        "colab": {
          "base_uri": "https://localhost:8080/"
        },
        "id": "etHrM_iAruod",
        "outputId": "d73b25df-9854-46d1-ac73-6088d4e9932b"
      },
      "outputs": [
        {
          "name": "stdout",
          "output_type": "stream",
          "text": [
            "GOOGL prediction for upcoming 3 days (105.28$, 102.99$, 105.27$)\n"
          ]
        }
      ],
      "source": [
        "if bool(predictions) == True and len(predictions) > 0:\n",
        "  predictions_list = [str(d)+'$' for d in predictions]\n",
        "  predictions_str = ', '.join(predictions_list)\n",
        "  message = f'{STOCK} prediction for upcoming 3 days ({predictions_str})'\n",
        "\n",
        "  print(message)"
      ]
    },
    {
      "cell_type": "code",
      "execution_count": null,
      "metadata": {
        "id": "OgOu2cWHF7vd"
      },
      "outputs": [],
      "source": [
        "# Execute model for the whole history range\n",
        "copy_df = init_df.copy()\n",
        "y_predicted = model.predict(x_train)\n",
        "y_predicted_transformed = np.squeeze(scaler.inverse_transform(y_predicted))\n",
        "first_seq = scaler.inverse_transform(np.expand_dims(y_train[:6], axis=1))\n",
        "last_seq = scaler.inverse_transform(np.expand_dims(y_train[-3:], axis=1))\n",
        "y_predicted_transformed = np.append(first_seq, y_predicted_transformed)\n",
        "y_predicted_transformed = np.append(y_predicted_transformed, last_seq)\n",
        "copy_df[f'predicted_close'] = y_predicted_transformed"
      ]
    },
    {
      "cell_type": "code",
      "execution_count": null,
      "metadata": {
        "id": "hIlJk-LZU6w0"
      },
      "outputs": [],
      "source": [
        "copy_df"
      ]
    },
    {
      "cell_type": "code",
      "execution_count": null,
      "metadata": {
        "colab": {
          "base_uri": "https://localhost:8080/"
        },
        "id": "SO3erc8IICAw",
        "outputId": "746304d5-6d71-460b-ed7d-1946853a0141"
      },
      "outputs": [
        {
          "name": "stderr",
          "output_type": "stream",
          "text": [
            "/usr/local/lib/python3.7/dist-packages/pandas/core/indexes/base.py:3361: FutureWarning: Comparison of Timestamp with datetime.date is deprecated in order to match the standard library behavior.  In a future version these will be considered non-comparable.Use 'ts == pd.Timestamp(date)' or 'ts.date() == date' instead.\n",
            "  return self._engine.get_loc(casted_key)\n"
          ]
        }
      ],
      "source": [
        "# Add predicted results to the table\n",
        "date_now = dt.date.today()\n",
        "date_tomorrow = dt.date.today() + dt.timedelta(days=1)\n",
        "date_after_tomorrow = dt.date.today() + dt.timedelta(days=2)\n",
        "\n",
        "copy_df.loc[date_now] = [predictions[0], f'{date_now}', 0, 0]\n",
        "copy_df.loc[date_tomorrow] = [predictions[1], f'{date_tomorrow}', 0, 0]\n",
        "copy_df.loc[date_after_tomorrow] = [predictions[2], f'{date_after_tomorrow}', 0, 0]"
      ]
    },
    {
      "cell_type": "code",
      "execution_count": null,
      "metadata": {
        "id": "s4LwHNmWBt3O"
      },
      "outputs": [],
      "source": [
        "# Result chart\n",
        "plt.style.use(style='ggplot')\n",
        "plt.figure(figsize=(16,10))\n",
        "plt.plot(copy_df['close'][-150:].head(147))\n",
        "plt.plot(copy_df['predicted_close'][-150:].head(147), linewidth=1, linestyle='dashed')\n",
        "plt.plot(copy_df['close'][-150:].tail(4))\n",
        "plt.xlabel('days')\n",
        "plt.ylabel('price')\n",
        "plt.legend([f'Actual price for {STOCK}',\n",
        "            f'Predicted price for {STOCK}',\n",
        "            f'Predicted price for future 3 days'])\n",
        "plt.show()"
      ]
    }
  ],
  "metadata": {
    "colab": {
      "provenance": [],
      "include_colab_link": true
    },
    "kernelspec": {
      "display_name": "Python 3",
      "name": "python3"
    },
    "language_info": {
      "name": "python"
    }
  },
  "nbformat": 4,
  "nbformat_minor": 0
}